{
  "nbformat": 4,
  "nbformat_minor": 0,
  "metadata": {
    "colab": {
      "name": "Untitled100.ipynb",
      "provenance": [],
      "collapsed_sections": [],
      "authorship_tag": "ABX9TyOqcN5h6DlTh0h9gr6S6/Ve",
      "include_colab_link": true
    },
    "kernelspec": {
      "name": "python3",
      "display_name": "Python 3"
    }
  },
  "cells": [
    {
      "cell_type": "markdown",
      "metadata": {
        "id": "view-in-github",
        "colab_type": "text"
      },
      "source": [
        "<a href=\"https://colab.research.google.com/github/Hamza1122/ML-Optuna/blob/master/Untitled100.ipynb\" target=\"_parent\"><img src=\"https://colab.research.google.com/assets/colab-badge.svg\" alt=\"Open In Colab\"/></a>"
      ]
    },
    {
      "cell_type": "code",
      "metadata": {
        "id": "hh1NuNUi85SZ",
        "colab_type": "code",
        "colab": {
          "base_uri": "https://localhost:8080/",
          "height": 524
        },
        "outputId": "151ad76c-2773-4e66-ea3d-b2333b7e7c0e"
      },
      "source": [
        "!pip install optuna\n",
        "import pandas as pd\n",
        "import numpy as np\n",
        "import keras\n",
        "from keras.datasets import cifar10\n",
        "from keras.models import Sequential\n",
        "from keras.layers import Dense, Dropout, Flatten\n",
        "from keras.layers import Conv2D, MaxPooling2D\n",
        "from keras import backend as K\n",
        "from keras.callbacks import TensorBoard\n"
      ],
      "execution_count": 1,
      "outputs": [
        {
          "output_type": "stream",
          "text": [
            "Requirement already satisfied: optuna in /usr/local/lib/python3.6/dist-packages (1.5.0)\n",
            "Requirement already satisfied: numpy in /usr/local/lib/python3.6/dist-packages (from optuna) (1.18.5)\n",
            "Requirement already satisfied: sqlalchemy>=1.1.0 in /usr/local/lib/python3.6/dist-packages (from optuna) (1.3.18)\n",
            "Requirement already satisfied: colorlog in /usr/local/lib/python3.6/dist-packages (from optuna) (4.1.0)\n",
            "Requirement already satisfied: tqdm in /usr/local/lib/python3.6/dist-packages (from optuna) (4.41.1)\n",
            "Requirement already satisfied: cmaes>=0.5.0 in /usr/local/lib/python3.6/dist-packages (from optuna) (0.5.1)\n",
            "Requirement already satisfied: joblib in /usr/local/lib/python3.6/dist-packages (from optuna) (0.16.0)\n",
            "Requirement already satisfied: scipy!=1.4.0 in /usr/local/lib/python3.6/dist-packages (from optuna) (1.4.1)\n",
            "Requirement already satisfied: alembic in /usr/local/lib/python3.6/dist-packages (from optuna) (1.4.2)\n",
            "Requirement already satisfied: cliff in /usr/local/lib/python3.6/dist-packages (from optuna) (3.3.0)\n",
            "Requirement already satisfied: python-editor>=0.3 in /usr/local/lib/python3.6/dist-packages (from alembic->optuna) (1.0.4)\n",
            "Requirement already satisfied: python-dateutil in /usr/local/lib/python3.6/dist-packages (from alembic->optuna) (2.8.1)\n",
            "Requirement already satisfied: Mako in /usr/local/lib/python3.6/dist-packages (from alembic->optuna) (1.1.3)\n",
            "Requirement already satisfied: stevedore>=1.20.0 in /usr/local/lib/python3.6/dist-packages (from cliff->optuna) (3.2.0)\n",
            "Requirement already satisfied: six>=1.10.0 in /usr/local/lib/python3.6/dist-packages (from cliff->optuna) (1.12.0)\n",
            "Requirement already satisfied: pyparsing>=2.1.0 in /usr/local/lib/python3.6/dist-packages (from cliff->optuna) (2.4.7)\n",
            "Requirement already satisfied: cmd2!=0.8.3,>=0.8.0 in /usr/local/lib/python3.6/dist-packages (from cliff->optuna) (1.2.1)\n",
            "Requirement already satisfied: PyYAML>=3.12 in /usr/local/lib/python3.6/dist-packages (from cliff->optuna) (3.13)\n",
            "Requirement already satisfied: pbr!=2.1.0,>=2.0.0 in /usr/local/lib/python3.6/dist-packages (from cliff->optuna) (5.4.5)\n",
            "Requirement already satisfied: PrettyTable<0.8,>=0.7.2 in /usr/local/lib/python3.6/dist-packages (from cliff->optuna) (0.7.2)\n",
            "Requirement already satisfied: MarkupSafe>=0.9.2 in /usr/local/lib/python3.6/dist-packages (from Mako->alembic->optuna) (1.1.1)\n",
            "Requirement already satisfied: importlib-metadata>=1.7.0; python_version < \"3.8\" in /usr/local/lib/python3.6/dist-packages (from stevedore>=1.20.0->cliff->optuna) (1.7.0)\n",
            "Requirement already satisfied: wcwidth>=0.1.7 in /usr/local/lib/python3.6/dist-packages (from cmd2!=0.8.3,>=0.8.0->cliff->optuna) (0.2.5)\n",
            "Requirement already satisfied: attrs>=16.3.0 in /usr/local/lib/python3.6/dist-packages (from cmd2!=0.8.3,>=0.8.0->cliff->optuna) (19.3.0)\n",
            "Requirement already satisfied: setuptools>=34.4 in /usr/local/lib/python3.6/dist-packages (from cmd2!=0.8.3,>=0.8.0->cliff->optuna) (49.1.0)\n",
            "Requirement already satisfied: colorama>=0.3.7 in /usr/local/lib/python3.6/dist-packages (from cmd2!=0.8.3,>=0.8.0->cliff->optuna) (0.4.3)\n",
            "Requirement already satisfied: pyperclip>=1.6 in /usr/local/lib/python3.6/dist-packages (from cmd2!=0.8.3,>=0.8.0->cliff->optuna) (1.8.0)\n",
            "Requirement already satisfied: zipp>=0.5 in /usr/local/lib/python3.6/dist-packages (from importlib-metadata>=1.7.0; python_version < \"3.8\"->stevedore>=1.20.0->cliff->optuna) (3.1.0)\n"
          ],
          "name": "stdout"
        },
        {
          "output_type": "stream",
          "text": [
            "Using TensorFlow backend.\n"
          ],
          "name": "stderr"
        }
      ]
    },
    {
      "cell_type": "code",
      "metadata": {
        "id": "qsJ9cidZJpYG",
        "colab_type": "code",
        "colab": {}
      },
      "source": [
        "# Model configuration\n",
        "img_width, img_height = 32, 32\n",
        "batch_size = 250\n",
        "no_epochs = 30\n",
        "no_classes = 10\n",
        "validation_split = 0.2\n",
        "verbosity =1\n"
      ],
      "execution_count": 2,
      "outputs": []
    },
    {
      "cell_type": "code",
      "metadata": {
        "id": "kSg5TUveJwTe",
        "colab_type": "code",
        "colab": {}
      },
      "source": [
        "# Load CIFAR10 dataset\n",
        "\n",
        "\n",
        "# Data loader splitting dataset \n",
        "(input_train, target_train), (input_test, target_test) = cifar10.load_data()\n",
        "\n",
        "\n",
        "\n",
        "# Visualize CIFAR10 dataset\n",
        "import matplotlib.pyplot as plt\n",
        "classes = {\n",
        "  0: 'airplane',\n",
        "  1: 'automobile',\n",
        "  2: 'bird',\n",
        "  3: 'cat',\n",
        "  4: 'deer',\n",
        "  5: 'dog',\n",
        "  6: 'frog',\n",
        "  7: 'horse',\n",
        "  8: 'ship',\n",
        "  9: 'truck'\n",
        "}"
      ],
      "execution_count": 3,
      "outputs": []
    },
    {
      "cell_type": "code",
      "metadata": {
        "id": "qI1xii9qNCKp",
        "colab_type": "code",
        "colab": {}
      },
      "source": [
        "import os\n",
        "try:\n",
        "    os.mkdir('dataloader')\n",
        "    os.mkdir('dataloader/train')\n",
        "    os.mkdir('dataloader/test')\n",
        "    os.mkdir('dataloader/val')\n",
        "except FileExistsError:\n",
        "    print(\"Directory already exists\")\n",
        "\n",
        "\n",
        "\n",
        "\n"
      ],
      "execution_count": 4,
      "outputs": []
    },
    {
      "cell_type": "code",
      "metadata": {
        "id": "zu97NIfkKA7v",
        "colab_type": "code",
        "colab": {}
      },
      "source": [
        "if K.image_data_format() == 'channels_first':\n",
        "    input_train = input_train.reshape(input_train.shape[0],3, img_width, img_height)\n",
        "    input_test = input_test.reshape(input_test.shape[0], 3, img_width, img_height)\n",
        "    input_shape = (3, img_width, img_height)\n",
        "else:\n",
        "    input_train = input_train.reshape(input_train.shape[0], img_width, img_height, 3)\n",
        "    input_test = input_test.reshape(input_test.shape[0], img_width, img_height, 3)\n",
        "    input_shape = (img_width  , img_height, 3)\n",
        "\n",
        "# Parse numbers as floats\n",
        "input_train = input_train.astype('float32')\n",
        "input_test = input_test.astype('float32')\n",
        "\n",
        "# Convert them into black or white: [0, 1].\n",
        "input_train = input_train / 255\n",
        "input_test = input_test / 255\n",
        "\n",
        "# Convert target vectors to categorical targets\n",
        "target_train = keras.utils.to_categorical(target_train, no_classes)\n",
        "target_test = keras.utils.to_categorical(target_test, no_classes)"
      ],
      "execution_count": 5,
      "outputs": []
    },
    {
      "cell_type": "code",
      "metadata": {
        "id": "40XGwlnJBrfI",
        "colab_type": "code",
        "colab": {}
      },
      "source": [
        "import optuna\n",
        "\n",
        "#Keys_list is the list of input which does the sanity check before running the model\n",
        "def check_dict_contains_keys(keylist,values):\n",
        "  print(keylist,values)\n",
        "\n",
        "class ExperimentManager:\n",
        "\n",
        "    # parameterized constructor\n",
        "    def __init__(self,model,hps_dict,datapath,callbacks,optuna_args_dict):\n",
        "        self.model = model\n",
        "        self.datapath=datapath\n",
        "        self.hps_dict=hps_dict\n",
        "        self.callbacks=callbacks\n",
        "        self.optuna_data=optuna_args_dict\n",
        "\n",
        "        #Sanity checking on dictinoary of optuna\n",
        "        check_dict_contains_keys(self.optuna_data.keys(),self.optuna_data.values())\n",
        "    \n",
        "    def sanity(self):\n",
        "      #checking the sub-directories\n",
        "\n",
        "      keyword_list = ['train','test','val']\n",
        "      if all(word in datapath for word in keyword_list):\n",
        "         display='All Sub-folder exists'\n",
        "      else:\n",
        "        display='User Should have three sub-folders'   \n",
        "      \n",
        "      return display\n",
        "     \n",
        "    #this is main optuna function\n",
        "    def objective(self,trial):\n",
        "\n",
        "      #Step 2 part (b)\n",
        "      hp_filters = trial.suggest_categorical(\"hp_filters\",hparams['hp_filters'])\n",
        "      hp_kernel_size= trial.suggest_categorical(\"hp_kernel_size\",hparams['hp_kernel_size'])\n",
        "      hp_strides= trial.suggest_categorical(\"hp_strides\",hparams['hp_strides'])\n",
        "      hp_activation= trial.suggest_categorical(\"hp_activation\",hparams['hp_activation'])\n",
        "      \n",
        "     \n",
        "      #Step 3\n",
        "      model = Sequential()\n",
        "      model.add(Conv2D(32, kernel_size=hp_kernel_size,strides=hp_strides,activation=hp_activation, input_shape=input_shape))\n",
        "      model.add(MaxPooling2D(pool_size=(2, 2)))\n",
        "      model.add(Dropout(0.25))\n",
        "      model.add(Conv2D(64, kernel_size=hp_kernel_size,strides=hp_strides,activation=hp_activation))\n",
        "      model.add(MaxPooling2D(pool_size=(2, 2)))\n",
        "      model.add(Dropout(0.25))\n",
        "      model.add(Flatten())\n",
        "      model.add(Dense(256, activation='relu'))\n",
        "      model.add(Dense(no_classes, activation='softmax'))\n",
        "      model.compile(loss=keras.losses.categorical_crossentropy,\n",
        "              optimizer=keras.optimizers.Adam(),\n",
        "              metrics=['accuracy'])\n",
        "      \n",
        "      #step 4\n",
        "      model.fit(input_train, target_train,\n",
        "          batch_size=batch_size,\n",
        "          epochs=no_epochs,\n",
        "          verbose=verbosity,\n",
        "          validation_split=validation_split,\n",
        "          callbacks=keras_callbacks)\n",
        "\n",
        "      \n",
        "      #step 5\n",
        "      score = model.evaluate(input_test, target_test, verbose=0)  \n",
        "      print(f'Test loss: {score[0]} / Test accuracy: {score[1]}')\n",
        "      return score[1]\n",
        "\n",
        "    def rando(self):\n",
        "      #Step 1   sample new values of the hps\n",
        "      \n",
        "      # we can use \n",
        "      hparams1={ \n",
        "           \"hps_1\":{'dtype':'int', 'min':1, 'max':6, 'sampler':'uniform'},\n",
        "           \"hps_2\":{'dtype':'int', 'min':1, 'max':6},\n",
        "           \"hps_3\":{'dtype':'int', 'min':1, 'max':6},\n",
        "           \"hps_4\":{'dtype':'int', 'min':1, 'max':6},\n",
        "            }\n",
        "      \n",
        "      \n",
        "      \n",
        "      #Step 2 part a\n",
        "      for name,value in hparams.items():\n",
        "        print(name, '->', value)\n",
        "      \n",
        "      print(self.sanity())\n",
        "      \n",
        "      \n",
        "      if self.model=='CNN':\n",
        "         study = optuna.create_study(study_name=optuna_args_dict['name'],storage=optuna_args_dict['db'],direction=optuna_args_dict['direction'])\n",
        "         study.optimize(self.objective, n_trials=50)\n",
        "         print(study.best_params)  \n",
        "          \n",
        "       \n",
        "# creating object of the class\n",
        "# this will invoke parameterized constructor\n"
      ],
      "execution_count": 9,
      "outputs": []
    },
    {
      "cell_type": "code",
      "metadata": {
        "id": "lGEH_QMz9HU7",
        "colab_type": "code",
        "colab": {
          "base_uri": "https://localhost:8080/",
          "height": 34
        },
        "outputId": "1cdc2b52-f2ae-4e84-9db9-0161ed9d650e"
      },
      "source": [
        "hparams={\n",
        "\"hp_filters\" : [64, 128, 256],\n",
        "\"hp_kernel_size\" : [3, 5],\n",
        "\"hp_strides\" : [1, 2],\n",
        "\"hp_activation\" : [\"relu\", \"linear\", \"elu\", \"selu\"],\n",
        "\"hp_lrmin\" : 1e-5,\n",
        "\"hp_lrmax\" : 1e-1\n",
        "}\n",
        "# Define Tensorboard as a Keras callback\n",
        "tensorboard = TensorBoard(\n",
        "  log_dir='.\\logs',\n",
        "  histogram_freq=1,\n",
        "  write_images=True\n",
        ")\n",
        "keras_callbacks = [\n",
        "  tensorboard\n",
        "]\n",
        "\n",
        "optuna_args_dict={\n",
        "\"db\":'sqlite:///',\n",
        "\"name\":'macula',\n",
        "\"direction\": 'maximize',\n",
        "\"metric\": 'accuracy'\n",
        "}\n",
        "\n",
        "model='CNN'\n",
        "datapath=os.listdir('dataloader')\n",
        "\n",
        "\n",
        "obj = ExperimentManager(model, hparams, datapath, keras_callbacks, optuna_args_dict)\n"
      ],
      "execution_count": 10,
      "outputs": [
        {
          "output_type": "stream",
          "text": [
            "dict_keys(['db', 'name', 'direction', 'metric']) dict_values(['sqlite:///', 'macula', 'maximize', 'accuracy'])\n"
          ],
          "name": "stdout"
        }
      ]
    },
    {
      "cell_type": "code",
      "metadata": {
        "id": "gA5dAmuJ9LZ_",
        "colab_type": "code",
        "colab": {
          "base_uri": "https://localhost:8080/",
          "height": 504
        },
        "outputId": "8bff1064-2f7b-41cb-c4cf-8d417019f253"
      },
      "source": [
        "obj.rando()\n"
      ],
      "execution_count": null,
      "outputs": [
        {
          "output_type": "stream",
          "text": [
            "hp_filters -> [64, 128, 256]\n",
            "hp_kernel_size -> [3, 5]\n",
            "hp_strides -> [1, 2]\n",
            "hp_activation -> ['relu', 'linear', 'elu', 'selu']\n",
            "hp_lrmin -> 1e-05\n",
            "hp_lrmax -> 0.1\n",
            "All Sub-folder exists\n"
          ],
          "name": "stdout"
        },
        {
          "output_type": "stream",
          "text": [
            "[I 2020-07-21 09:44:58,727] A new study created with name: macula\n"
          ],
          "name": "stderr"
        },
        {
          "output_type": "stream",
          "text": [
            "Train on 40000 samples, validate on 10000 samples\n",
            "Epoch 1/30\n",
            "40000/40000 [==============================] - 77s 2ms/step - loss: 1.7346 - accuracy: 0.3649 - val_loss: 1.4432 - val_accuracy: 0.4856\n",
            "Epoch 2/30\n",
            "40000/40000 [==============================] - 72s 2ms/step - loss: 1.3750 - accuracy: 0.5059 - val_loss: 1.2613 - val_accuracy: 0.5646\n",
            "Epoch 3/30\n",
            "40000/40000 [==============================] - 72s 2ms/step - loss: 1.2434 - accuracy: 0.5596 - val_loss: 1.1761 - val_accuracy: 0.5888\n",
            "Epoch 4/30\n",
            "40000/40000 [==============================] - 72s 2ms/step - loss: 1.1394 - accuracy: 0.5959 - val_loss: 1.0709 - val_accuracy: 0.6349\n",
            "Epoch 5/30\n",
            "40000/40000 [==============================] - 73s 2ms/step - loss: 1.0741 - accuracy: 0.6212 - val_loss: 1.0445 - val_accuracy: 0.6342\n",
            "Epoch 6/30\n",
            "40000/40000 [==============================] - 72s 2ms/step - loss: 1.0111 - accuracy: 0.6463 - val_loss: 0.9928 - val_accuracy: 0.6572\n",
            "Epoch 7/30\n",
            "40000/40000 [==============================] - 72s 2ms/step - loss: 0.9648 - accuracy: 0.6603 - val_loss: 0.9731 - val_accuracy: 0.6620\n",
            "Epoch 8/30\n",
            "40000/40000 [==============================] - 72s 2ms/step - loss: 0.9161 - accuracy: 0.6783 - val_loss: 0.9292 - val_accuracy: 0.6799\n",
            "Epoch 9/30\n",
            "40000/40000 [==============================] - 76s 2ms/step - loss: 0.8849 - accuracy: 0.6905 - val_loss: 0.9091 - val_accuracy: 0.6831\n",
            "Epoch 10/30\n",
            "38500/40000 [===========================>..] - ETA: 2s - loss: 0.8466 - accuracy: 0.7044"
          ],
          "name": "stdout"
        }
      ]
    },
    {
      "cell_type": "code",
      "metadata": {
        "id": "K022VZkHTH0X",
        "colab_type": "code",
        "colab": {}
      },
      "source": [
        ""
      ],
      "execution_count": null,
      "outputs": []
    },
    {
      "cell_type": "code",
      "metadata": {
        "id": "5aXscr0MXAK3",
        "colab_type": "code",
        "colab": {}
      },
      "source": [
        ""
      ],
      "execution_count": null,
      "outputs": []
    }
  ]
}